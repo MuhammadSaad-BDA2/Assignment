{
 "cells": [
  {
   "cell_type": "markdown",
   "metadata": {},
   "source": [
    "# MUHAMMAD SAAD ASSIGNMENT 3"
   ]
  },
  {
   "cell_type": "code",
   "execution_count": 194,
   "metadata": {},
   "outputs": [
    {
     "name": "stdout",
     "output_type": "stream",
     "text": [
      "Current date: 2021\n",
      "{'person_1': {'name': 'Mr. Abdul Rafay', 'age': 22, 'Interests': ['football', 'cricket'], 'amount_deposited': 50000, 'year': 1999}, 'person_2': {'name': 'Ms.Nancy James', 'age': 23, 'Interests': ['baseball', 'cricket'], 'amount_deposited': 51000, 'year': 1998}}\n"
     ]
    }
   ],
   "source": [
    "from functools import reduce\n",
    "import datetime\n",
    "import json\n",
    "\n",
    "my_dict = {\n",
    "    \n",
    "'person_1':{ 'name' : 'Abdul Rafay', 'age':22, 'Interests':['football','cricket'], 'amount_deposited':[24000,26000] },\n",
    "'person_2':{ 'name' : 'Nancy James', 'age':23, 'Interests':['baseball','cricket'], 'amount_deposited':[24000,27000] },\n",
    "'person_3':{ 'name' : 'Selena Gomez', 'age':26, 'Interests':['baseball','table tennis'],'amount_deposited':[24000,28000] }\n",
    "    \n",
    "}\n",
    "\n",
    "def func_filter(a):\n",
    "    if (str(a[key]['name']).lower().startswith('s')) or (str(a[key]['name']).lower().startswith('m')) or (str(a[key]['name']).lower().startswith('k')):  \n",
    "        del a[key]\n",
    "    \n",
    "    return a\n",
    "\n",
    "func_filter(my_dict)\n",
    "\n",
    "def func_append(a):\n",
    "    \n",
    "    for key in a.keys():\n",
    "        for i in range (97,123): \n",
    "            if i <=103: \n",
    "                if str(a[key]['name']).lower().startswith(chr(i)):\n",
    "                    a[key]['name']=\"Mr. \"+a[key]['name'] \n",
    "                    break\n",
    "\n",
    "            if i>=104:\n",
    "                if str(a[key]['name']).lower().startswith(chr(i)):\n",
    "                    a[key]['name']=\"Ms.\" +a[key]['name'] \n",
    "    return a\n",
    "\n",
    "output=func_append(my_dict)\n",
    "\n",
    "\n",
    "today_date=datetime.date.today().year\n",
    "\n",
    "def func_age(a):\n",
    "    today_date=datetime.date.today().year\n",
    "    for key in a.keys():\n",
    "        a[key]['year']= today_date - a[key]['age']\n",
    "        \n",
    "    return a\n",
    "\n",
    "year=func_age(my_dict)\n",
    "\n",
    "\n",
    " \n",
    "def func_sum(a):\n",
    "    \n",
    "    for key in a.keys():\n",
    "        a[key]['amount_deposited']= a[key]['amount_deposited'][0]+a[key]['amount_deposited'][1]\n",
    "        \n",
    "    return a\n",
    "\n",
    "\n",
    "sum=func_sum(my_dict)\n",
    "\n",
    "\n",
    "print (\"Current date: \" + str(today_date))\n",
    "\n",
    "print (sum)\n",
    "\n",
    "with open('names.json','w') as file:\n",
    "    json.dump(my_dict,file,indent=2,sort_keys=True)\n",
    "\n",
    "\n"
   ]
  },
  {
   "cell_type": "code",
   "execution_count": null,
   "metadata": {},
   "outputs": [],
   "source": []
  },
  {
   "cell_type": "code",
   "execution_count": null,
   "metadata": {},
   "outputs": [],
   "source": []
  }
 ],
 "metadata": {
  "kernelspec": {
   "display_name": "Python 3",
   "language": "python",
   "name": "python3"
  },
  "language_info": {
   "codemirror_mode": {
    "name": "ipython",
    "version": 3
   },
   "file_extension": ".py",
   "mimetype": "text/x-python",
   "name": "python",
   "nbconvert_exporter": "python",
   "pygments_lexer": "ipython3",
   "version": "3.8.5"
  }
 },
 "nbformat": 4,
 "nbformat_minor": 4
}
