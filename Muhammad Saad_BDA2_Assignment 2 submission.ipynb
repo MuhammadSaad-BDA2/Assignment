{
 "cells": [
  {
   "cell_type": "code",
   "execution_count": 9,
   "metadata": {},
   "outputs": [
    {
     "name": "stdout",
     "output_type": "stream",
     "text": [
      "Enter the Principal: 1500\n",
      "Enter the Rate of Interest: 4.3\n",
      "Enter the Number of Years: 4\n",
      "After 4.0 years at 4.3%, the investment will be worth $ 1758.0\n"
     ]
    }
   ],
   "source": [
    "##ASSIGNMENT QUESTION # 1\n",
    "\n",
    "P = float(input('Enter the Principal: '))\n",
    "r = float(input('Enter the Rate of Interest: '))\n",
    "t = float(input('Enter the Number of Years: '))\n",
    "\n",
    "A = P*(1+(r*t/100))\n",
    "\n",
    "print('After '+ str(t) + ' years at ' + str(r) + '%, the investment will be worth $ '+str(A))"
   ]
  },
  {
   "cell_type": "code",
   "execution_count": 29,
   "metadata": {},
   "outputs": [
    {
     "name": "stdout",
     "output_type": "stream",
     "text": [
      "What is the order amount ? 10\n",
      "What is the state ? MN\n",
      "The total is : $10.0\n"
     ]
    }
   ],
   "source": [
    "##ASSIGNMENT QUESTION # 2\n",
    "\n",
    "order_amount = float(input('What is the order amount ? '))\n",
    "state =  str(input('What is the state ? '))\n",
    "tax = 5.5\n",
    "\n",
    "if state==\"WI\":\n",
    "    print(\"The sub total is : $\"+str(order_amount))\n",
    "    print(\"The tax is : $\"+str(tax)+\"%\")\n",
    "    print(\"The total is : $\"+str((order_amount)+(order_amount*tax/100)))\n",
    "\n",
    "else: \n",
    "    print(\"The total is : $\" + str(order_amount))"
   ]
  },
  {
   "cell_type": "code",
   "execution_count": 33,
   "metadata": {},
   "outputs": [
    {
     "name": "stdout",
     "output_type": "stream",
     "text": [
      "Please Enter your Username : Saad\n",
      "Please Enter your Password : abc$123\n",
      "What is the password? abc$123\n",
      "Welcome!\n"
     ]
    }
   ],
   "source": [
    "##ASSIGNMENT QUESTION # 3\n",
    "\n",
    "username= input(\"Please Enter your Username : \")\n",
    "password= input(\"Please Enter your Password : \")\n",
    "true_password= 'abc$123'\n",
    "\n",
    "if password==true_password:\n",
    "    print (\"What is the password? \"+str(password))\n",
    "    print (\"Welcome!\")\n",
    "    \n",
    "else:\n",
    "    print (\"What is the password? \"+str(password))\n",
    "    print (\"We dont know you\")\n",
    "    \n"
   ]
  },
  {
   "cell_type": "code",
   "execution_count": 38,
   "metadata": {},
   "outputs": [
    {
     "name": "stdout",
     "output_type": "stream",
     "text": [
      "What is your age?  14\n",
      "You are not Old Enough to legally drive\n"
     ]
    }
   ],
   "source": [
    "##ASSIGNMENT QUESTION # 4\n",
    "\n",
    "age= int(input(\"What is your age?  \"))\n",
    "legal_age=16\n",
    "\n",
    "if age>= 16:\n",
    "    print(\"You are Old Enough to legally drive\")\n",
    "\n",
    "else:\n",
    "    print(\"You are not Old Enough to legally drive\")"
   ]
  },
  {
   "cell_type": "code",
   "execution_count": 45,
   "metadata": {},
   "outputs": [
    {
     "name": "stdout",
     "output_type": "stream",
     "text": [
      "Press C to Convert from Fahrenheit to Celsius\n",
      "Press F to Convert from Celsius to Fahrenheit\n",
      "Your Choice: G\n",
      "Invalid unit selection\n"
     ]
    }
   ],
   "source": [
    "##ASSIGNMENT QUESTION # 5\n",
    "\n",
    "print(\"Press C to Convert from Fahrenheit to Celsius\")\n",
    "print(\"Press F to Convert from Celsius to Fahrenheit\")\n",
    "choice= str(input(\"Your Choice: \"))\n",
    "\n",
    "if choice=='C':\n",
    "    temp=float(input(\"Please etner the temperature in Fahrenheit: \"))\n",
    "    print(\"The temperature in Celcius is: \"+str((temp-32)*(5/9)))\n",
    "    \n",
    "elif choice=='F':\n",
    "    temp=float(input(\"Please etner the temperature in Celcius: \"))\n",
    "    print(\"The temperature in Fahrenheit is: \"+str((temp*9/5)+32))\n",
    "    \n",
    "else:\n",
    "    print(\"Invalid unit selection\")\n",
    "    "
   ]
  },
  {
   "cell_type": "code",
   "execution_count": null,
   "metadata": {},
   "outputs": [],
   "source": []
  },
  {
   "cell_type": "code",
   "execution_count": null,
   "metadata": {},
   "outputs": [],
   "source": []
  }
 ],
 "metadata": {
  "kernelspec": {
   "display_name": "Python 3",
   "language": "python",
   "name": "python3"
  },
  "language_info": {
   "codemirror_mode": {
    "name": "ipython",
    "version": 3
   },
   "file_extension": ".py",
   "mimetype": "text/x-python",
   "name": "python",
   "nbconvert_exporter": "python",
   "pygments_lexer": "ipython3",
   "version": "3.8.5"
  }
 },
 "nbformat": 4,
 "nbformat_minor": 4
}
