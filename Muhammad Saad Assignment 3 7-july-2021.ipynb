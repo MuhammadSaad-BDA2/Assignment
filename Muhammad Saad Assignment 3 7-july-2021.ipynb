{
 "cells": [
  {
   "cell_type": "markdown",
   "metadata": {},
   "source": [
    "# MUHAMMAD SAAD ASSIGNMENT 3"
   ]
  },
  {
   "cell_type": "code",
   "execution_count": 72,
   "metadata": {},
   "outputs": [],
   "source": [
    "from functools import reduce\n",
    "import datetime\n",
    "import json\n",
    "\n",
    "my_dict = {\n",
    "    \n",
    "'person_1':{ 'name' : 'Abdul Rafay', 'age':22, 'Interests':['football','cricket'], 'amount_deposited':[24000,26000] },\n",
    "'person_2':{ 'name' : 'Nancy James', 'age':23, 'Interests':['baseball','cricket'], 'amount_deposited':[24000,27000] },\n",
    "'person_3':{ 'name' : 'Selena Gomez', 'age':26, 'Interests':['baseball','table tennis'],'amount_deposited':[24000,28000] }\n",
    "    \n",
    "}\n",
    "\n",
    "\n",
    "result= list(filter(lambda a: a if (str(a).lower().startswith('s')) or \n",
    "             (str(a).lower().startswith('m')) or (str(a).lower().startswith('k')) else None, [my_dict[key][\"name\"] for key in my_dict.keys()]))\n",
    "\n",
    "for key in my_dict.keys():\n",
    "    \n",
    "    if my_dict[key]['name'] ==str(result):\n",
    "        a=key\n",
    "        \n",
    "del my_dict[a]\n",
    "\n",
    "\n",
    "def func_map(a):\n",
    "    alp = [chr(i) for i in range(97,104)]\n",
    "    alp = tuple(alp)\n",
    "\n",
    "    result = list(map(lambda x : \"Mr. \"+x if str(x).lower().startswith(alp) else \"Mrs. \"+x, [a[i][\"name\"] for i in a]))\n",
    "    i=0\n",
    "    for key in a.keys():\n",
    "        a[key]['name'] = str(result[i])\n",
    "        i=i+1\n",
    "   \n",
    "    return a\n",
    "\n",
    "\n",
    "today_date=datetime.date.today()\n",
    "\n",
    "def func_age(a):\n",
    "    result=list(map(lambda x:(datetime.date.today().year - x), [a[key][\"age\"] for key in a.keys()] ))\n",
    "    \n",
    "    i=0\n",
    "    for key in a.keys():\n",
    "        a[key]['year'] = str(result[i])\n",
    "        i=i+1\n",
    "   \n",
    "    return a\n",
    "\n",
    "\n",
    "\n",
    "def func_sum(a):\n",
    "    \n",
    "    for key in a.keys():\n",
    "        a[key]['amount_deposited']= a[key]['amount_deposited'][0]+a[key]['amount_deposited'][1]\n",
    "        \n",
    "    return a\n",
    "\n",
    "func_sum(my_dict)\n",
    "\n",
    "\n",
    "    \n",
    "with open('names.json','w') as file:\n",
    "    json.dump(my_dict,file,indent=2,sort_keys=True)\n",
    "\n",
    "\n",
    "\n"
   ]
  },
  {
   "cell_type": "code",
   "execution_count": null,
   "metadata": {},
   "outputs": [],
   "source": []
  },
  {
   "cell_type": "code",
   "execution_count": null,
   "metadata": {},
   "outputs": [],
   "source": []
  }
 ],
 "metadata": {
  "kernelspec": {
   "display_name": "Python 3",
   "language": "python",
   "name": "python3"
  },
  "language_info": {
   "codemirror_mode": {
    "name": "ipython",
    "version": 3
   },
   "file_extension": ".py",
   "mimetype": "text/x-python",
   "name": "python",
   "nbconvert_exporter": "python",
   "pygments_lexer": "ipython3",
   "version": "3.8.5"
  }
 },
 "nbformat": 4,
 "nbformat_minor": 4
}
